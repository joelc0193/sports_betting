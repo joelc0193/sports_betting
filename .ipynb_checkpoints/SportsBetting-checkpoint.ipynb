{
 "cells": [
  {
   "cell_type": "code",
   "execution_count": 19,
   "id": "f0da90fc",
   "metadata": {},
   "outputs": [],
   "source": [
    "import json\n",
    "import numpy as np\n",
    "import os\n",
    "import pandas as pd\n",
    "from sklearn.linear_model import LogisticRegression\n",
    "from sklearn.svm import SVC,LinearSVC\n",
    "from sklearn.preprocessing import PolynomialFeatures\n",
    "from sklearn.preprocessing import LabelEncoder\n",
    "from sklearn.metrics import classification_report\n",
    "\n",
    "#%%\n",
    "# Load data\n",
    "os.chdir(\"/Users/jcastro2/code/ml/sports_betting\")\n",
    "data = []\n",
    "for num in range(2016, 2022):\n",
    "\tf = open(\"data/{}/Team_data_{}.txt\".format(num, num))\n",
    "\tnew_data = json.load(f)\n",
    "\tdata.append(new_data)"
   ]
  },
  {
   "cell_type": "code",
   "execution_count": 20,
   "id": "9e6bad9e",
   "metadata": {},
   "outputs": [],
   "source": [
    "#%%\n",
    "def convert_scalars_to_list(game_data):\n",
    "    for key in game_data.keys():\n",
    "        game_data[key] = [game_data[key]]\n",
    "    return game_data\n",
    "\n",
    "#%%\n",
    "# Converting game infos to proper format then to pandas dataframe\n",
    "for i, season_data in enumerate(data):\n",
    "    for team1 in season_data:\n",
    "        for team2 in season_data[team1]:\n",
    "            if team2 == \"team_info\":\n",
    "                continue\n",
    "            game_data = season_data[team1][team2]\n",
    "            game_data = convert_scalars_to_list(game_data)\n",
    "            data[i][team1][team2] = pd.DataFrame.from_dict(game_data)\n",
    "                                                  \n",
    "#%%\n",
    "# Delete 'team_info' key from game infos\n",
    "for i, season_data in enumerate(data):\n",
    "    for team1 in season_data:\n",
    "        if 'team_info' in season_data[team1].keys():\n",
    "            del season_data[team1]['team_info']\n",
    "\n",
    "#%%\n",
    "# Add team1 and team2 coluumns to every dataframe\n",
    "for i, season_data in enumerate(data):\n",
    "    for team1 in season_data:\n",
    "        for team2 in season_data[team1]:\n",
    "            season_data[team1][team2]['team1'] = team1\n",
    "            season_data[team1][team2]['team2'] = team2\n",
    "\n",
    "#%%\n",
    "# Add every dataframe to final dataframe\n",
    "df = pd.DataFrame()\n",
    "for i, season_data in enumerate(data):\n",
    "    for team1 in season_data:\n",
    "        for team2 in season_data[team1]:\n",
    "            df = pd.concat([df, season_data[team1][team2]])"
   ]
  },
  {
   "cell_type": "code",
   "execution_count": 21,
   "id": "8c666dc1",
   "metadata": {},
   "outputs": [
    {
     "name": "stdout",
     "output_type": "stream",
     "text": [
      "    home_or_away  spread  team1  team2\n",
      "0              0   -52.0      0     18\n",
      "0              0   -47.0      0    131\n",
      "0              0   -44.0      1      2\n",
      "0              1   -44.0      2      1\n",
      "0              0     3.0      2     15\n",
      "..           ...     ...    ...    ...\n",
      "0              0     3.0    267    189\n",
      "0              1   -20.0    267    234\n",
      "0              0     5.5    267    241\n",
      "0              0    -4.0    268     45\n",
      "0              0    28.5    269    129\n",
      "\n",
      "[9718 rows x 4 columns]\n"
     ]
    },
    {
     "name": "stderr",
     "output_type": "stream",
     "text": [
      "<ipython-input-21-a011be3653cf>:14: SettingWithCopyWarning: \n",
      "A value is trying to be set on a copy of a slice from a DataFrame.\n",
      "Try using .loc[row_indexer,col_indexer] = value instead\n",
      "\n",
      "See the caveats in the documentation: https://pandas.pydata.org/pandas-docs/stable/user_guide/indexing.html#returning-a-view-versus-a-copy\n",
      "  final_df.home_or_away = final_df.home_or_away.map(dict(zip(home_or_away_encoder.classes_, home_or_away_encoder.transform(home_or_away_encoder.classes_))))\n",
      "<ipython-input-21-a011be3653cf>:15: SettingWithCopyWarning: \n",
      "A value is trying to be set on a copy of a slice from a DataFrame.\n",
      "Try using .loc[row_indexer,col_indexer] = value instead\n",
      "\n",
      "See the caveats in the documentation: https://pandas.pydata.org/pandas-docs/stable/user_guide/indexing.html#returning-a-view-versus-a-copy\n",
      "  final_df.team1 = final_df.team1.map(dict(zip(team_encoder.classes_, team_encoder.transform(team_encoder.classes_))))\n",
      "<ipython-input-21-a011be3653cf>:16: SettingWithCopyWarning: \n",
      "A value is trying to be set on a copy of a slice from a DataFrame.\n",
      "Try using .loc[row_indexer,col_indexer] = value instead\n",
      "\n",
      "See the caveats in the documentation: https://pandas.pydata.org/pandas-docs/stable/user_guide/indexing.html#returning-a-view-versus-a-copy\n",
      "  final_df.team2 = final_df.team2.map(dict(zip(team_encoder.classes_, team_encoder.transform(team_encoder.classes_))))\n"
     ]
    }
   ],
   "source": [
    "#%%\n",
    "# Convert string columns to values\n",
    "mappings = {}\n",
    "#home or away for influence of game\n",
    "# spread for threshold\n",
    "# margin to know who won\n",
    "# attendance_percent to know if crowd energy says something about the game\n",
    "columns = ['home_or_away', 'spread', \"margin\", \"team1\", \"team2\"]\n",
    "final_df = df[columns]\n",
    "home_or_away_encoder=LabelEncoder()\n",
    "home_or_away_encoder.fit_transform(final_df.home_or_away)\n",
    "team_encoder=LabelEncoder()\n",
    "team_encoder.fit_transform(pd.concat([final_df.team1, final_df.team2], axis=0))\n",
    "final_df.home_or_away = final_df.home_or_away.map(dict(zip(home_or_away_encoder.classes_, home_or_away_encoder.transform(home_or_away_encoder.classes_))))\n",
    "final_df.team1 = final_df.team1.map(dict(zip(team_encoder.classes_, team_encoder.transform(team_encoder.classes_))))\n",
    "final_df.team2 = final_df.team2.map(dict(zip(team_encoder.classes_, team_encoder.transform(team_encoder.classes_))))\n",
    "\n",
    "    \n",
    "final_df = final_df.dropna()\n",
    "y = final_df['margin']\n",
    "final_df = final_df.drop(columns=\"margin\")\n",
    "\n",
    "print(final_df)"
   ]
  },
  {
   "cell_type": "code",
   "execution_count": 22,
   "id": "e132d0b6",
   "metadata": {},
   "outputs": [],
   "source": [
    "from sklearn.model_selection import train_test_split\n",
    "from sklearn import metrics\n",
    "\n",
    "DEGREE = 2\n",
    "\n",
    "# Create output labels y\n",
    "y_binary = y - final_df['spread']\n",
    "y_binary = y_binary.map(lambda x: 1 if x > 0 else 0)\n",
    "\n",
    "# Split data\n",
    "X_train,X_test,y_train,y_test=train_test_split(final_df,y_binary,test_size=0.25,random_state=0)\n",
    "\n",
    "# Prepare train data\n",
    "x_train = X_train.to_numpy()\n",
    "x_train_ = PolynomialFeatures(degree=DEGREE, include_bias=False).fit_transform(x_train)\n",
    "model = LogisticRegression(max_iter=4000).fit(x_train_, y_train)\n",
    "\n",
    "# Test model\n",
    "x_test = X_test.to_numpy()\n",
    "x_test_ = PolynomialFeatures(degree=DEGREE, include_bias=False).fit_transform(x_test)"
   ]
  },
  {
   "cell_type": "code",
   "execution_count": 23,
   "id": "82fd8a0e",
   "metadata": {},
   "outputs": [
    {
     "name": "stdout",
     "output_type": "stream",
     "text": [
      "              precision    recall  f1-score   support\n",
      "\n",
      "           0       0.82      0.80      0.81      1179\n",
      "           1       0.82      0.83      0.82      1251\n",
      "\n",
      "    accuracy                           0.82      2430\n",
      "   macro avg       0.82      0.82      0.82      2430\n",
      "weighted avg       0.82      0.82      0.82      2430\n",
      "\n"
     ]
    }
   ],
   "source": [
    "model_log = LogisticRegression(max_iter=4000).fit(x_train_, y_train)\n",
    "\n",
    "# Test model\n",
    "predictions = model_log.predict(x_test_)\n",
    "\n",
    "# Evaluate model\n",
    "cnf_matrix = metrics.confusion_matrix(y_test, predictions)\n",
    "\n",
    "print(classification_report(y_test,model_log.predict(x_test_)))"
   ]
  },
  {
   "cell_type": "code",
   "execution_count": 24,
   "id": "7ea72b57",
   "metadata": {},
   "outputs": [
    {
     "name": "stdout",
     "output_type": "stream",
     "text": [
      "              precision    recall  f1-score   support\n",
      "\n",
      "           0       0.82      0.80      0.81      1179\n",
      "           1       0.82      0.84      0.83      1251\n",
      "\n",
      "    accuracy                           0.82      2430\n",
      "   macro avg       0.82      0.82      0.82      2430\n",
      "weighted avg       0.82      0.82      0.82      2430\n",
      "\n"
     ]
    }
   ],
   "source": [
    "model_svc = SVC(kernel='rbf').fit(x_train_, y_train)\n",
    "\n",
    "# Test model\n",
    "predictions = model_svc.predict(x_test_)\n",
    "\n",
    "# Evaluate model\n",
    "cnf_matrix = metrics.confusion_matrix(y_test, predictions)\n",
    "\n",
    "print(classification_report(y_test,model_svc.predict(x_test_)))"
   ]
  },
  {
   "cell_type": "markdown",
   "id": "ba0c5cbb",
   "metadata": {},
   "source": [
    "from sklearn.preprocessing import PolynomialFeatures\n"
   ]
  },
  {
   "cell_type": "code",
   "execution_count": 62,
   "id": "c1cea2ae",
   "metadata": {
    "scrolled": true
   },
   "outputs": [
    {
     "name": "stdout",
     "output_type": "stream",
     "text": [
      "              precision    recall  f1-score   support\n",
      "\n",
      "           0       0.67      0.88      0.76      1179\n",
      "           1       0.84      0.59      0.69      1251\n",
      "\n",
      "    accuracy                           0.73      2430\n",
      "   macro avg       0.76      0.74      0.73      2430\n",
      "weighted avg       0.76      0.73      0.73      2430\n",
      "\n"
     ]
    },
    {
     "name": "stderr",
     "output_type": "stream",
     "text": [
      "/Library/anaconda3/envs/ml/lib/python3.9/site-packages/sklearn/svm/_base.py:985: ConvergenceWarning: Liblinear failed to converge, increase the number of iterations.\n",
      "  warnings.warn(\"Liblinear failed to converge, increase \"\n"
     ]
    }
   ],
   "source": [
    "model_linear_svc = LinearSVC(C=0.1).fit(x_train_, y_train)\n",
    "\n",
    "# Test model\n",
    "predictions = model_linear_svc.predict(x_test_)\n",
    "\n",
    "# Evaluate model\n",
    "cnf_matrix = metrics.confusion_matrix(y_test, predictions)\n",
    "\n",
    "print(classification_report(y_test,model_linear_svc.predict(x_test_)))"
   ]
  },
  {
   "cell_type": "code",
   "execution_count": null,
   "id": "ba0fd426",
   "metadata": {},
   "outputs": [],
   "source": [
    "import io\n",
    "import uvicorn\n",
    "import numpy as np\n",
    "import nest_asyncio\n",
    "from enum import Enum\n",
    "from fastapi import FastAPI, HTTPException\n",
    "from fastapi.encoders import jsonable_encoder\n",
    "from fastapi.responses import JSONResponse\n",
    "\n",
    "# Assign an instance of the FastAPI class to the variable \"app\".\n",
    "# You will interact with your api using this instance.\n",
    "app = FastAPI(title='Deploying a ML Model with FastAPI')\n",
    "\n",
    "class Model(str, Enum):\n",
    "    model1 = 'Logistic Regression Classifier'\n",
    "    model2= 'SVM Classifier'\n",
    "    model3 = 'Linear SVM Classifier'\n",
    "    \n",
    "    \n",
    "class HomeOrAway(str, Enum):\n",
    "    home = 'home'\n",
    "    away= 'away'\n",
    "\n",
    "# By using @app.get(\"/\") you are allowing the GET method to work for the / endpoint.\n",
    "@app.get(\"/\")\n",
    "def home():\n",
    "    return \"Welcome to the sports betting predictor. Now head over to http://localhost:8000/docs.\"\n",
    "\n",
    "# This endpoint handles all the logic necessary for the object detection to work.\n",
    "# It requires the desired model and the image in which to perform object detection.\n",
    "@app.post(\"/predict\") \n",
    "def prediction(model: Model, home_or_away: HomeOrAway, spread: float, team1: str, team2: str):\n",
    "\n",
    "    # Encode data\n",
    "    df = pd.DataFrame({'home_or_away':[home_or_away], 'spread':[spread], 'team1':[team1], 'team2':[team2]})\n",
    "    df.home_or_away = df.home_or_away.map(dict(zip(home_or_away_encoder.classes_, home_or_away_encoder.transform(home_or_away_encoder.classes_))))\n",
    "    df.team1 = df.team1.map(dict(zip(team_encoder.classes_, team_encoder.transform(team_encoder.classes_))))\n",
    "    df.team2 = df.team2.map(dict(zip(team_encoder.classes_, team_encoder.transform(team_encoder.classes_))))\n",
    "\n",
    "    x_predict = df.to_numpy()\n",
    "    x_predict_ = PolynomialFeatures(degree=DEGREE, include_bias=False).fit_transform(x_predict)\n",
    "    \n",
    "    # 3. RUN PREDICTION MODEL\n",
    "    if model == 'Logistic Regression Classifier':\n",
    "        prediction = model_log.predict(x_predict_)\n",
    "    elif model == 'SVM Classifier':\n",
    "        prediction = model_svc.predict(x_predict_)\n",
    "    elif model == 'Linear SVM Classifier':\n",
    "        prediction = model_linear_svc.predict(x_predict_)\n",
    "    \n",
    "    print(prediction)\n",
    "    if prediction == 0:\n",
    "        prediction = team_encoder.inverse_transform([i for i in range(len(team_encoder.classes_))])[df.team1.tolist()[0]]\n",
    "    else:\n",
    "        prediction = team_encoder.inverse_transform([i for i in range(len(team_encoder.classes_))])[df.team2.tolist()[0]]\n",
    "        \n",
    "    # 4. RETURN PREDICTION\n",
    "    return prediction\n",
    "\n",
    "# Allows the server to be run in this interactive environment\n",
    "nest_asyncio.apply()\n",
    "\n",
    "# Host depends on the setup you selected (docker or virtual env)\n",
    "host = \"127.0.0.1\"\n",
    "\n",
    "# Spin up the server!    \n",
    "uvicorn.run(app, host=host, port=8000)"
   ]
  },
  {
   "cell_type": "code",
   "execution_count": 54,
   "id": "75d7450e",
   "metadata": {},
   "outputs": [
    {
     "data": {
      "text/plain": [
       "(array([[  1. ,   6.5,  84. , 142. ],\n",
       "        [  1. , -24.5,  79. ,  45. ],\n",
       "        [  1. , -19.5,  89. ,   4. ],\n",
       "        ...,\n",
       "        [  1. ,  15. ,  38. , 217. ],\n",
       "        [  0. ,  -3.5,  64. , 200. ],\n",
       "        [  1. ,   4. , 248. , 178. ]]),\n",
       " 0    0\n",
       " 0    1\n",
       " 0    1\n",
       " 0    0\n",
       " 0    1\n",
       "     ..\n",
       " 0    1\n",
       " 0    0\n",
       " 0    0\n",
       " 0    1\n",
       " 0    0\n",
       " Length: 2430, dtype: int64)"
      ]
     },
     "execution_count": 54,
     "metadata": {},
     "output_type": "execute_result"
    }
   ],
   "source": [
    "x_test, y_test"
   ]
  },
  {
   "cell_type": "code",
   "execution_count": 58,
   "id": "6a25382f",
   "metadata": {},
   "outputs": [
    {
     "data": {
      "text/plain": [
       "('CONN', 45)"
      ]
     },
     "execution_count": 58,
     "metadata": {},
     "output_type": "execute_result"
    }
   ],
   "source": [
    "list(zip(team_encoder.classes_, team_encoder.transform(team_encoder.classes_)))[45]"
   ]
  }
 ],
 "metadata": {
  "kernelspec": {
   "display_name": "Python 3",
   "language": "python",
   "name": "python3"
  },
  "language_info": {
   "codemirror_mode": {
    "name": "ipython",
    "version": 3
   },
   "file_extension": ".py",
   "mimetype": "text/x-python",
   "name": "python",
   "nbconvert_exporter": "python",
   "pygments_lexer": "ipython3",
   "version": "3.9.9"
  }
 },
 "nbformat": 4,
 "nbformat_minor": 5
}
