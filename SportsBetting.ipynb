{
 "cells": [
  {
   "cell_type": "code",
   "execution_count": 1,
   "id": "f0da90fc",
   "metadata": {},
   "outputs": [],
   "source": [
    "import json\n",
    "import numpy as np\n",
    "import os\n",
    "import pandas as pd\n",
    "from sklearn.linear_model import LogisticRegression\n",
    "from sklearn.svm import SVC,LinearSVC\n",
    "from sklearn.preprocessing import PolynomialFeatures\n",
    "from sklearn.preprocessing import LabelEncoder\n",
    "from sklearn.metrics import classification_report\n",
    "\n",
    "#%%\n",
    "# Load data\n",
    "os.chdir(\"/Users/jcastro2/code/sports_betting\")\n",
    "data = []\n",
    "for num in range(2016, 2022):\n",
    "\tf = open(\"data/{}/Team_data_{}.txt\".format(num, num))\n",
    "\tnew_data = json.load(f)\n",
    "\tdata.append(new_data)"
   ]
  },
  {
   "cell_type": "code",
   "execution_count": 2,
   "id": "9e6bad9e",
   "metadata": {},
   "outputs": [],
   "source": [
    "#%%\n",
    "def convert_scalars_to_list(game_data):\n",
    "    for key in game_data.keys():\n",
    "        game_data[key] = [game_data[key]]\n",
    "    return game_data\n",
    "\n",
    "#%%\n",
    "# Converting game infos to proper format then to pandas dataframe\n",
    "for i, season_data in enumerate(data):\n",
    "    for team1 in season_data:\n",
    "        for team2 in season_data[team1]:\n",
    "            if team2 == \"team_info\":\n",
    "                continue\n",
    "            game_data = season_data[team1][team2]\n",
    "            game_data = convert_scalars_to_list(game_data)\n",
    "            data[i][team1][team2] = pd.DataFrame.from_dict(game_data)\n",
    "                                                  \n",
    "#%%\n",
    "# Delete 'team_info' key from game infos\n",
    "for i, season_data in enumerate(data):\n",
    "    for team1 in season_data:\n",
    "        if 'team_info' in season_data[team1].keys():\n",
    "            del season_data[team1]['team_info']\n",
    "\n",
    "#%%\n",
    "# Add team1 and team2 coluumns to every dataframe\n",
    "for i, season_data in enumerate(data):\n",
    "    for team1 in season_data:\n",
    "        for team2 in season_data[team1]:\n",
    "            season_data[team1][team2]['team1'] = team1\n",
    "            season_data[team1][team2]['team2'] = team2\n",
    "\n",
    "#%%\n",
    "# Add every dataframe to final dataframe\n",
    "df = pd.DataFrame()\n",
    "for i, season_data in enumerate(data):\n",
    "    for team1 in season_data:\n",
    "        for team2 in season_data[team1]:\n",
    "            df = pd.concat([df, season_data[team1][team2]])"
   ]
  },
  {
   "cell_type": "code",
   "execution_count": 3,
   "id": "8c666dc1",
   "metadata": {},
   "outputs": [
    {
     "name": "stdout",
     "output_type": "stream",
     "text": [
      "    home_or_away  spread  team1  team2\n",
      "0              0   -52.0      0     18\n",
      "0              0   -47.0      0    131\n",
      "0              0   -44.0      1      2\n",
      "0              1   -44.0      2      1\n",
      "0              0     3.0      2     15\n",
      "..           ...     ...    ...    ...\n",
      "0              0     3.0    267    189\n",
      "0              1   -20.0    267    234\n",
      "0              0     5.5    267    241\n",
      "0              0    -4.0    268     45\n",
      "0              0    28.5    269    129\n",
      "\n",
      "[9718 rows x 4 columns]\n"
     ]
    },
    {
     "name": "stderr",
     "output_type": "stream",
     "text": [
      "<ipython-input-3-a011be3653cf>:14: SettingWithCopyWarning: \n",
      "A value is trying to be set on a copy of a slice from a DataFrame.\n",
      "Try using .loc[row_indexer,col_indexer] = value instead\n",
      "\n",
      "See the caveats in the documentation: https://pandas.pydata.org/pandas-docs/stable/user_guide/indexing.html#returning-a-view-versus-a-copy\n",
      "  final_df.home_or_away = final_df.home_or_away.map(dict(zip(home_or_away_encoder.classes_, home_or_away_encoder.transform(home_or_away_encoder.classes_))))\n",
      "<ipython-input-3-a011be3653cf>:15: SettingWithCopyWarning: \n",
      "A value is trying to be set on a copy of a slice from a DataFrame.\n",
      "Try using .loc[row_indexer,col_indexer] = value instead\n",
      "\n",
      "See the caveats in the documentation: https://pandas.pydata.org/pandas-docs/stable/user_guide/indexing.html#returning-a-view-versus-a-copy\n",
      "  final_df.team1 = final_df.team1.map(dict(zip(team_encoder.classes_, team_encoder.transform(team_encoder.classes_))))\n",
      "<ipython-input-3-a011be3653cf>:16: SettingWithCopyWarning: \n",
      "A value is trying to be set on a copy of a slice from a DataFrame.\n",
      "Try using .loc[row_indexer,col_indexer] = value instead\n",
      "\n",
      "See the caveats in the documentation: https://pandas.pydata.org/pandas-docs/stable/user_guide/indexing.html#returning-a-view-versus-a-copy\n",
      "  final_df.team2 = final_df.team2.map(dict(zip(team_encoder.classes_, team_encoder.transform(team_encoder.classes_))))\n"
     ]
    }
   ],
   "source": [
    "#%%\n",
    "# Convert string columns to values\n",
    "mappings = {}\n",
    "#home or away for influence of game\n",
    "# spread for threshold\n",
    "# margin to know who won\n",
    "# attendance_percent to know if crowd energy says something about the game\n",
    "columns = ['home_or_away', 'spread', \"margin\", \"team1\", \"team2\"]\n",
    "final_df = df[columns]\n",
    "home_or_away_encoder=LabelEncoder()\n",
    "home_or_away_encoder.fit_transform(final_df.home_or_away)\n",
    "team_encoder=LabelEncoder()\n",
    "team_encoder.fit_transform(pd.concat([final_df.team1, final_df.team2], axis=0))\n",
    "final_df.home_or_away = final_df.home_or_away.map(dict(zip(home_or_away_encoder.classes_, home_or_away_encoder.transform(home_or_away_encoder.classes_))))\n",
    "final_df.team1 = final_df.team1.map(dict(zip(team_encoder.classes_, team_encoder.transform(team_encoder.classes_))))\n",
    "final_df.team2 = final_df.team2.map(dict(zip(team_encoder.classes_, team_encoder.transform(team_encoder.classes_))))\n",
    "\n",
    "    \n",
    "final_df = final_df.dropna()\n",
    "y = final_df['margin']\n",
    "final_df = final_df.drop(columns=\"margin\")\n",
    "\n",
    "print(final_df)"
   ]
  },
  {
   "cell_type": "code",
   "execution_count": 4,
   "id": "e132d0b6",
   "metadata": {},
   "outputs": [],
   "source": [
    "from sklearn.model_selection import train_test_split\n",
    "from sklearn import metrics\n",
    "\n",
    "DEGREE = 2\n",
    "\n",
    "# Create output labels y\n",
    "y_binary = y - final_df['spread']\n",
    "y_binary = y_binary.map(lambda x: 1 if x > 0 else 0)\n",
    "\n",
    "# Split data\n",
    "X_train,X_test,y_train,y_test=train_test_split(final_df,y_binary,test_size=0.25,random_state=0)\n",
    "\n",
    "# Prepare train data\n",
    "x_train = X_train.to_numpy()\n",
    "x_train_ = PolynomialFeatures(degree=DEGREE, include_bias=False).fit_transform(x_train)\n",
    "model = LogisticRegression(max_iter=4000).fit(x_train_, y_train)\n",
    "\n",
    "# Test model\n",
    "x_test = X_test.to_numpy()\n",
    "x_test_ = PolynomialFeatures(degree=DEGREE, include_bias=False).fit_transform(x_test)"
   ]
  },
  {
   "cell_type": "code",
   "execution_count": 6,
   "id": "82fd8a0e",
   "metadata": {},
   "outputs": [
    {
     "name": "stdout",
     "output_type": "stream",
     "text": [
      "              precision    recall  f1-score   support\n",
      "\n",
      "           0       0.82      0.80      0.81      1179\n",
      "           1       0.82      0.83      0.82      1251\n",
      "\n",
      "    accuracy                           0.82      2430\n",
      "   macro avg       0.82      0.82      0.82      2430\n",
      "weighted avg       0.82      0.82      0.82      2430\n",
      "\n"
     ]
    }
   ],
   "source": [
    "log_model = LogisticRegression(max_iter=4000).fit(x_train_, y_train)\n",
    "\n",
    "# Test model\n",
    "predictions = log_model.predict(x_test_)\n",
    "\n",
    "# Evaluate model\n",
    "cnf_matrix = metrics.confusion_matrix(y_test, predictions)\n",
    "\n",
    "print(classification_report(y_test,log_model.predict(x_test_)))"
   ]
  },
  {
   "cell_type": "code",
   "execution_count": 11,
   "id": "7ea72b57",
   "metadata": {},
   "outputs": [
    {
     "name": "stdout",
     "output_type": "stream",
     "text": [
      "              precision    recall  f1-score   support\n",
      "\n",
      "           0       0.82      0.80      0.81      1179\n",
      "           1       0.82      0.84      0.83      1251\n",
      "\n",
      "    accuracy                           0.82      2430\n",
      "   macro avg       0.82      0.82      0.82      2430\n",
      "weighted avg       0.82      0.82      0.82      2430\n",
      "\n"
     ]
    }
   ],
   "source": [
    "svc_model = SVC(kernel='rbf').fit(x_train_, y_train)\n",
    "\n",
    "# Test model\n",
    "predictions = svc_model.predict(x_test_)\n",
    "\n",
    "# Evaluate model\n",
    "cnf_matrix = metrics.confusion_matrix(y_test, predictions)\n",
    "\n",
    "print(classification_report(y_test,svc_model.predict(x_test_)))"
   ]
  },
  {
   "cell_type": "markdown",
   "id": "ba0c5cbb",
   "metadata": {},
   "source": [
    "from sklearn.preprocessing import PolynomialFeatures\n"
   ]
  },
  {
   "cell_type": "code",
   "execution_count": 8,
   "id": "c1cea2ae",
   "metadata": {
    "scrolled": true
   },
   "outputs": [
    {
     "name": "stdout",
     "output_type": "stream",
     "text": [
      "              precision    recall  f1-score   support\n",
      "\n",
      "           0       0.67      0.80      0.73      1179\n",
      "           1       0.77      0.63      0.70      1251\n",
      "\n",
      "    accuracy                           0.72      2430\n",
      "   macro avg       0.72      0.72      0.71      2430\n",
      "weighted avg       0.72      0.72      0.71      2430\n",
      "\n"
     ]
    },
    {
     "name": "stderr",
     "output_type": "stream",
     "text": [
      "/Library/anaconda3/envs/ml/lib/python3.9/site-packages/sklearn/svm/_base.py:985: ConvergenceWarning: Liblinear failed to converge, increase the number of iterations.\n",
      "  warnings.warn(\"Liblinear failed to converge, increase \"\n"
     ]
    }
   ],
   "source": [
    "lin_svc_model = LinearSVC(C=0.1).fit(x_train_, y_train)\n",
    "\n",
    "# Test model\n",
    "predictions = lin_svc_model.predict(x_test_)\n",
    "\n",
    "# Evaluate model\n",
    "cnf_matrix = metrics.confusion_matrix(y_test, predictions)\n",
    "\n",
    "print(classification_report(y_test,lin_svc_model.predict(x_test_)))"
   ]
  },
  {
   "cell_type": "code",
   "execution_count": null,
   "id": "bff9f639",
   "metadata": {},
   "outputs": [],
   "source": [
    "for row in X_test.iterrows():\n",
    "    new_X_train = final_df.copy()\n",
    "    home_or_away = row[1][0]\n",
    "    spread = row[1][1]\n",
    "    team1 = row[1][2]\n",
    "    team2 = row[1][3]\n",
    "    new_X_train = new_X_train[new_X_train['home_or_away']==home_or_away]\n",
    "    new_X_train = new_X_train[new_X_train['spread']==spread]\n",
    "    new_X_train = new_X_train[new_X_train['team1']==team1]\n",
    "    new_X_train = new_X_train[new_X_train['team2']==team2]"
   ]
  },
  {
   "cell_type": "code",
   "execution_count": 19,
   "id": "89f23d13",
   "metadata": {},
   "outputs": [
    {
     "name": "stdout",
     "output_type": "stream",
     "text": [
      "((1, 1), 0)\n",
      "((0, 0), 1)\n",
      "((1, 1), 1)\n",
      "((0, 0), 0)\n",
      "((1, 1), 1)\n"
     ]
    }
   ],
   "source": [
    "test = np.array([[0, -2, 18, 101], [1, 5.5, 225, 152], [0, -1.5, 162, 139], [0, 6.5, 95, 98], [1, -8, 29, 187]])\n",
    "test_ = PolynomialFeatures(degree=DEGREE, include_bias=False).fit_transform(test)\n",
    "predictions1 = log_model.predict(test_)\n",
    "predictions2 = log_model.predict(test_)\n",
    "for nums in zip(zip(predictions1, predictions2), y_test):\n",
    "    print(nums)"
   ]
  }
 ],
 "metadata": {
  "kernelspec": {
   "display_name": "Python 3",
   "language": "python",
   "name": "python3"
  },
  "language_info": {
   "codemirror_mode": {
    "name": "ipython",
    "version": 3
   },
   "file_extension": ".py",
   "mimetype": "text/x-python",
   "name": "python",
   "nbconvert_exporter": "python",
   "pygments_lexer": "ipython3",
   "version": "3.9.9"
  }
 },
 "nbformat": 4,
 "nbformat_minor": 5
}
